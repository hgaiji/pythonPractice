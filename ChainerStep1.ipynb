{
  "nbformat": 4,
  "nbformat_minor": 0,
  "metadata": {
    "colab": {
      "name": "ChainerStep1.ipynb",
      "version": "0.3.2",
      "provenance": [],
      "collapsed_sections": [],
      "include_colab_link": true
    },
    "kernelspec": {
      "name": "python3",
      "display_name": "Python 3"
    },
    "accelerator": "GPU"
  },
  "cells": [
    {
      "cell_type": "markdown",
      "metadata": {
        "id": "view-in-github",
        "colab_type": "text"
      },
      "source": [
        "<a href=\"https://colab.research.google.com/github/hgaiji/pythonPractice/blob/master/ChainerStep1.ipynb\" target=\"_parent\"><img src=\"https://colab.research.google.com/assets/colab-badge.svg\" alt=\"Open In Colab\"/></a>"
      ]
    },
    {
      "cell_type": "code",
      "metadata": {
        "id": "Om-0d8MQANYj",
        "colab_type": "code",
        "colab": {}
      },
      "source": [
        "a = [4,8,3,4,1]"
      ],
      "execution_count": 0,
      "outputs": []
    },
    {
      "cell_type": "code",
      "metadata": {
        "id": "TFUpiQW2AYpB",
        "colab_type": "code",
        "colab": {
          "base_uri": "https://localhost:8080/",
          "height": 34
        },
        "outputId": "e44516d6-35ad-4d2b-e6d1-5a9163713950"
      },
      "source": [
        "#リストの長さを求める\n",
        "length = len(a)\n",
        "print(length)"
      ],
      "execution_count": 5,
      "outputs": [
        {
          "output_type": "stream",
          "text": [
            "5\n"
          ],
          "name": "stdout"
        }
      ]
    },
    {
      "cell_type": "code",
      "metadata": {
        "id": "27aatBkvAe0n",
        "colab_type": "code",
        "colab": {
          "base_uri": "https://localhost:8080/",
          "height": 34
        },
        "outputId": "c6f40335-793d-43d2-cb4f-4e4dfca452e5"
      },
      "source": [
        "#リストの合計を求める\n",
        "total = sum(a)\n",
        "print(total)"
      ],
      "execution_count": 3,
      "outputs": [
        {
          "output_type": "stream",
          "text": [
            "20\n"
          ],
          "name": "stdout"
        }
      ]
    },
    {
      "cell_type": "code",
      "metadata": {
        "id": "iOgSUJMbA46E",
        "colab_type": "code",
        "colab": {
          "base_uri": "https://localhost:8080/",
          "height": 34
        },
        "outputId": "2df50fc7-446e-4cb2-a575-cabeaa443683"
      },
      "source": [
        "#リストの先頭を取り出す\n",
        "print(a[1:])"
      ],
      "execution_count": 4,
      "outputs": [
        {
          "output_type": "stream",
          "text": [
            "[8, 3, 4, 1]\n"
          ],
          "name": "stdout"
        }
      ]
    },
    {
      "cell_type": "code",
      "metadata": {
        "id": "5yi7OMY0BNqP",
        "colab_type": "code",
        "colab": {
          "base_uri": "https://localhost:8080/",
          "height": 34
        },
        "outputId": "665f2a66-13b5-4f97-b015-8242de5acaa6"
      },
      "source": [
        "#リストの末尾を取り出す\n",
        "print(a[:-1])"
      ],
      "execution_count": 5,
      "outputs": [
        {
          "output_type": "stream",
          "text": [
            "[4, 8, 3, 4]\n"
          ],
          "name": "stdout"
        }
      ]
    },
    {
      "cell_type": "code",
      "metadata": {
        "id": "dHmOsCFrBTUX",
        "colab_type": "code",
        "colab": {
          "base_uri": "https://localhost:8080/",
          "height": 34
        },
        "outputId": "951698db-f0aa-46e8-88f3-d3deca7a33ab"
      },
      "source": [
        "#リストの末尾に100を追加\n",
        "a[-1]= 100\n",
        "print(a)"
      ],
      "execution_count": 6,
      "outputs": [
        {
          "output_type": "stream",
          "text": [
            "[4, 8, 3, 4, 100]\n"
          ],
          "name": "stdout"
        }
      ]
    },
    {
      "cell_type": "code",
      "metadata": {
        "id": "mhO46sM5BhqV",
        "colab_type": "code",
        "colab": {}
      },
      "source": [
        "a = [4,8,3,4,1]\n",
        "#リストの内包表記 "
      ],
      "execution_count": 0,
      "outputs": []
    },
    {
      "cell_type": "code",
      "metadata": {
        "id": "Z4Op5QvoB5Ut",
        "colab_type": "code",
        "colab": {
          "base_uri": "https://localhost:8080/",
          "height": 34
        },
        "outputId": "263ec9dd-4605-4c31-f15b-de073a75650a"
      },
      "source": [
        "#リストの要素が偶数なら0,奇数なら1に変換\n",
        "result = [x%2 for x in a]\n",
        "print(result)"
      ],
      "execution_count": 12,
      "outputs": [
        {
          "output_type": "stream",
          "text": [
            "[0, 0, 1, 0, 1]\n"
          ],
          "name": "stdout"
        }
      ]
    },
    {
      "cell_type": "code",
      "metadata": {
        "id": "XtuZr7u2Cgmt",
        "colab_type": "code",
        "colab": {
          "base_uri": "https://localhost:8080/",
          "height": 34
        },
        "outputId": "70efed78-6df8-43e6-df01-ede72b31404a"
      },
      "source": [
        "#上記の結果から奇数の個数を数える\n",
        "result2 = [x for x in result if x % 2 != 0]\n",
        "print(len(result2))"
      ],
      "execution_count": 17,
      "outputs": [
        {
          "output_type": "stream",
          "text": [
            "2\n"
          ],
          "name": "stdout"
        }
      ]
    },
    {
      "cell_type": "code",
      "metadata": {
        "id": "bpHal7vRD3pO",
        "colab_type": "code",
        "colab": {
          "base_uri": "https://localhost:8080/",
          "height": 34
        },
        "outputId": "6e39be0a-b3a0-42a6-ad96-d4048cb83b65"
      },
      "source": [
        "#リストから奇数の要素だけを残す\n",
        "result3 = [x for x in a if x%2 != 0]\n",
        "print(result3)"
      ],
      "execution_count": 20,
      "outputs": [
        {
          "output_type": "stream",
          "text": [
            "[3, 1]\n"
          ],
          "name": "stdout"
        }
      ]
    },
    {
      "cell_type": "code",
      "metadata": {
        "id": "5xDkn5HOEhq2",
        "colab_type": "code",
        "colab": {
          "base_uri": "https://localhost:8080/",
          "height": 185
        },
        "outputId": "729f8fb3-f13e-4bb7-f682-6403f1f2aca9"
      },
      "source": [
        "#０から９９までの数を0 1 ... 99の文字列に変換\n",
        "list = [x for x in range(100)]\n",
        "print(\" \".join(list)) \n",
        "#joinの引数は文字列しか扱えないため、map関数を用いてstr型に変換してやる必要がある"
      ],
      "execution_count": 25,
      "outputs": [
        {
          "output_type": "error",
          "ename": "TypeError",
          "evalue": "ignored",
          "traceback": [
            "\u001b[0;31m---------------------------------------------------------------------------\u001b[0m",
            "\u001b[0;31mTypeError\u001b[0m                                 Traceback (most recent call last)",
            "\u001b[0;32m<ipython-input-25-822b1300c843>\u001b[0m in \u001b[0;36m<module>\u001b[0;34m()\u001b[0m\n\u001b[1;32m      1\u001b[0m \u001b[0mlist\u001b[0m \u001b[0;34m=\u001b[0m \u001b[0;34m[\u001b[0m\u001b[0mx\u001b[0m \u001b[0;32mfor\u001b[0m \u001b[0mx\u001b[0m \u001b[0;32min\u001b[0m \u001b[0mrange\u001b[0m\u001b[0;34m(\u001b[0m\u001b[0;36m100\u001b[0m\u001b[0;34m)\u001b[0m\u001b[0;34m]\u001b[0m\u001b[0;34m\u001b[0m\u001b[0;34m\u001b[0m\u001b[0m\n\u001b[0;32m----> 2\u001b[0;31m \u001b[0mprint\u001b[0m\u001b[0;34m(\u001b[0m\u001b[0;34m\" \"\u001b[0m\u001b[0;34m.\u001b[0m\u001b[0mjoin\u001b[0m\u001b[0;34m(\u001b[0m\u001b[0mlist\u001b[0m\u001b[0;34m)\u001b[0m\u001b[0;34m)\u001b[0m\u001b[0;34m\u001b[0m\u001b[0;34m\u001b[0m\u001b[0m\n\u001b[0m",
            "\u001b[0;31mTypeError\u001b[0m: sequence item 0: expected str instance, int found"
          ]
        }
      ]
    },
    {
      "cell_type": "code",
      "metadata": {
        "id": "HKT1quunFhvO",
        "colab_type": "code",
        "colab": {
          "base_uri": "https://localhost:8080/",
          "height": 54
        },
        "outputId": "602fa779-a087-4f5b-a6ce-b3b188f1a7e6"
      },
      "source": [
        "list = [x for x in range(100)]\n",
        "print(\" \".join(map(str,list))) "
      ],
      "execution_count": 26,
      "outputs": [
        {
          "output_type": "stream",
          "text": [
            "0 1 2 3 4 5 6 7 8 9 10 11 12 13 14 15 16 17 18 19 20 21 22 23 24 25 26 27 28 29 30 31 32 33 34 35 36 37 38 39 40 41 42 43 44 45 46 47 48 49 50 51 52 53 54 55 56 57 58 59 60 61 62 63 64 65 66 67 68 69 70 71 72 73 74 75 76 77 78 79 80 81 82 83 84 85 86 87 88 89 90 91 92 93 94 95 96 97 98 99\n"
          ],
          "name": "stdout"
        }
      ]
    },
    {
      "cell_type": "code",
      "metadata": {
        "id": "Kg1I9zkBG7iq",
        "colab_type": "code",
        "colab": {
          "base_uri": "https://localhost:8080/",
          "height": 34
        },
        "outputId": "4e579a96-7d54-4694-d011-90e869ae44de"
      },
      "source": [
        "#小数点第９位まで表示\n",
        "print(\"{:.9f}\".format(1.0/7.0))"
      ],
      "execution_count": 29,
      "outputs": [
        {
          "output_type": "stream",
          "text": [
            "0.142857143\n"
          ],
          "name": "stdout"
        }
      ]
    },
    {
      "cell_type": "markdown",
      "metadata": {
        "id": "ROUd_ayhHaHa",
        "colab_type": "text"
      },
      "source": [
        "クラスを実装する練習として、データを管理するクラスを実装してみましょう。 次のメソッドを全て持つクラス DataManager を記述して下さい。\n",
        "\n",
        "- __init__(self, x, y, z): 3つの数 x, y, z をコンストラクタで受け取り、インスタンスの属性でそれぞれの値を記憶する。\n",
        "- add_x(self, delta): x に delta だけ足して、値を更新する。\n",
        "- add_y(self, delta): y に delta だけ足して、値を更新する。\n",
        "- add_z(self, delta): z に delta だけ足して、値を更新する。\n",
        "- sum(self): x, y, z の3つの数の合計値を返す。"
      ]
    },
    {
      "cell_type": "code",
      "metadata": {
        "id": "J7qscNIdI4Ud",
        "colab_type": "code",
        "colab": {}
      },
      "source": [
        "class DataManager :\n",
        "  def __init__(self,x,y,z) :\n",
        "    self.x = x\n",
        "    self.y = y\n",
        "    self.z = z\n",
        "  def add_x(self,delta):\n",
        "    self.x += delta\n",
        "  def add_y(self, delta):\n",
        "    self.y += delta\n",
        "  def add_z(self, delta):\n",
        "    self.z += delta\n",
        "  def sum(self):\n",
        "    return self.x + self.y + self.z"
      ],
      "execution_count": 0,
      "outputs": []
    },
    {
      "cell_type": "code",
      "metadata": {
        "id": "Y3J-X6MBJpRb",
        "colab_type": "code",
        "colab": {
          "base_uri": "https://localhost:8080/",
          "height": 34
        },
        "outputId": "b2847246-1cda-46a5-ece1-dd3898985ccc"
      },
      "source": [
        "data_manager = DataManager(2,3,5)\n",
        "print(data_manager.sum())\n"
      ],
      "execution_count": 31,
      "outputs": [
        {
          "output_type": "stream",
          "text": [
            "10\n"
          ],
          "name": "stdout"
        }
      ]
    },
    {
      "cell_type": "code",
      "metadata": {
        "id": "xdxTajOpJ4AH",
        "colab_type": "code",
        "colab": {
          "base_uri": "https://localhost:8080/",
          "height": 34
        },
        "outputId": "ae4488c5-a4a5-4220-a435-be495ecf43dc"
      },
      "source": [
        "data_manager.add_x(4)\n",
        "print(data_manager.sum())"
      ],
      "execution_count": 34,
      "outputs": [
        {
          "output_type": "stream",
          "text": [
            "22\n"
          ],
          "name": "stdout"
        }
      ]
    },
    {
      "cell_type": "code",
      "metadata": {
        "id": "rxieH7e2KCXv",
        "colab_type": "code",
        "colab": {
          "base_uri": "https://localhost:8080/",
          "height": 85
        },
        "outputId": "ecb2c52c-7b8e-4d52-93d4-177b53669e3a"
      },
      "source": [
        "data_manager = DataManager(2,3,5)\n",
        "print(data_manager.sum())\n",
        "data_manager.add_x(4)\n",
        "print(data_manager.sum())\n",
        "data_manager.add_y(0)\n",
        "print(data_manager.sum())\n",
        "data_manager.add_z(-9)\n",
        "print(data_manager.sum())"
      ],
      "execution_count": 35,
      "outputs": [
        {
          "output_type": "stream",
          "text": [
            "10\n",
            "14\n",
            "14\n",
            "5\n"
          ],
          "name": "stdout"
        }
      ]
    },
    {
      "cell_type": "code",
      "metadata": {
        "id": "cc1-hyqDKhyK",
        "colab_type": "code",
        "colab": {}
      },
      "source": [
        ""
      ],
      "execution_count": 0,
      "outputs": []
    }
  ]
}