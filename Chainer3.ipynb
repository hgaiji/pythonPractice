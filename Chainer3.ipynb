{
  "nbformat": 4,
  "nbformat_minor": 0,
  "metadata": {
    "colab": {
      "name": "Chainer3.ipynb",
      "version": "0.3.2",
      "provenance": [],
      "collapsed_sections": [],
      "include_colab_link": true
    },
    "kernelspec": {
      "name": "python3",
      "display_name": "Python 3"
    }
  },
  "cells": [
    {
      "cell_type": "markdown",
      "metadata": {
        "id": "view-in-github",
        "colab_type": "text"
      },
      "source": [
        "<a href=\"https://colab.research.google.com/github/hgaiji/pythonPractice/blob/master/Chainer3.ipynb\" target=\"_parent\"><img src=\"https://colab.research.google.com/assets/colab-badge.svg\" alt=\"Open In Colab\"/></a>"
      ]
    },
    {
      "cell_type": "markdown",
      "metadata": {
        "id": "UEnKAKGy3N-H",
        "colab_type": "text"
      },
      "source": [
        "# Chainerチュートリアル\n",
        "## 3.機械学習に使われる数学\n",
        "## 3.2 教師あり学習の考え方\n",
        "#### 一言でいうと\n",
        "- 問題の答えを用意しておいて、予想した答えと実際の答えの違いを小さくなるように訓練すること\n",
        "\n",
        "####   具体例\n",
        "1. あるデータの集まりを予測したいとする\n",
        "1. そのデータに対して関数を用いて近似することで未知のデータを予測する\n",
        " - 直線での近似：$f(x)=y=wx+b$　 など　→　**モデル**と呼ばれる：パラメータを用いて計算を行いことで、与えられたデータの特徴などを表すもの\n",
        "1. その関数に対してデータの集まりを近似できるようなパラメータを決定する\n",
        " - 最適なパラメーターをコンピューターに決定させることが機械学習の代表的な処理の一つ\n",
        " - 最適なパラメータを決定するために誤差関数を用いる  \n",
        "    1.与えられたデータのあるn点取り出す($x_1,t_1$)  , ...., ($x_n,t_n$)  \n",
        "    2.目的関数(今回でいうと直線)で得られる座標を取り出す($x_1,f(x_1)$),.....,($x_n,f(x_n)$)\n",
        "    1.これらの点を二条誤差関数を用いることで予想値と目標値の差を表す\n",
        "    $$\n",
        "    l_n = (t_n - y_n)^2\n",
        "    $$\n",
        "    これらをデータ数で割る。つまり、以下のような平均二乗誤差を用いることでパラメータを決定していく。\n",
        "    $$\n",
        "    L = \\frac{1}{n}\\sum_{t=1}^{n}l_t\n",
        "    $$\n",
        "    \n",
        "\n",
        " "
      ]
    },
    {
      "cell_type": "code",
      "metadata": {
        "id": "vcCWO6u-AJ0s",
        "colab_type": "code",
        "colab": {}
      },
      "source": [
        ""
      ],
      "execution_count": 0,
      "outputs": []
    },
    {
      "cell_type": "code",
      "metadata": {
        "id": "fXJP-haW8j-8",
        "colab_type": "code",
        "colab": {}
      },
      "source": [
        ""
      ],
      "execution_count": 0,
      "outputs": []
    }
  ]
}